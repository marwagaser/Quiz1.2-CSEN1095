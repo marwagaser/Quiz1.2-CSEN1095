{
 "cells": [
  {
   "cell_type": "markdown",
   "metadata": {
    "id": "hqMfI_GTZGKu"
   },
   "source": [
    "# **Question 1 - Visualizations**"
   ]
  },
  {
   "cell_type": "markdown",
   "metadata": {
    "id": "WcwlncEBZP7e"
   },
   "source": [
    "## **Part I**\n",
    "\n",
    "Using the following dataset: https://raw.githubusercontent.com/mwaskom/seaborn-data/master/penguins.csv choose the most convenient graph to show the following, each question in **one** graph, using the library of your choice:\n",
    "\n"
   ]
  },
  {
   "cell_type": "markdown",
   "metadata": {
    "id": "1q2RVHZ5aIfy"
   },
   "source": [
    "**1. The relationship between the penguin's body mass and bill length for each species.**"
   ]
  },
  {
   "cell_type": "code",
   "execution_count": null,
   "metadata": {
    "id": "azZU9OyBY5ZJ"
   },
   "outputs": [],
   "source": [
    "# Your answer here"
   ]
  },
  {
   "cell_type": "markdown",
   "metadata": {
    "id": "W8d6wUapaO-5"
   },
   "source": [
    " **What do you observe from the graph?**"
   ]
  },
  {
   "cell_type": "markdown",
   "metadata": {
    "id": "9zqHbgzOaTxp"
   },
   "source": [
    "Your answer here:\n",
    "\n",
    "*   \n",
    "\n",
    "\n",
    "\n"
   ]
  },
  {
   "cell_type": "markdown",
   "metadata": {
    "id": "PZB_ewrVaIbM"
   },
   "source": [
    "**Why did you choose this type of graph?**"
   ]
  },
  {
   "cell_type": "markdown",
   "metadata": {
    "id": "NJPwpssOaIdi"
   },
   "source": [
    "Your answer here:\n",
    "\n",
    "*   "
   ]
  },
  {
   "cell_type": "markdown",
   "metadata": {
    "id": "0-ME01JJaIhr"
   },
   "source": [
    "**2. The mean bill length of female and male penguins.** \n"
   ]
  },
  {
   "cell_type": "code",
   "execution_count": null,
   "metadata": {
    "id": "QmthkvfXbJcy"
   },
   "outputs": [],
   "source": [
    "#Your answer here"
   ]
  },
  {
   "cell_type": "markdown",
   "metadata": {
    "id": "_YwdUqN5ZGIn"
   },
   "source": [
    " **What do you observe from the graph?**"
   ]
  },
  {
   "cell_type": "markdown",
   "metadata": {
    "id": "-T4xwknXZGNW"
   },
   "source": [
    "Your answer here:\n",
    "\n",
    "*   \n",
    "\n",
    "\n",
    "\n"
   ]
  },
  {
   "cell_type": "markdown",
   "metadata": {
    "id": "OLtBP0dGbTuI"
   },
   "source": [
    "**Why did you choose this type of graph?**"
   ]
  },
  {
   "cell_type": "markdown",
   "metadata": {
    "id": "DPW1MoRvbTxA"
   },
   "source": [
    "Your answer here:\n",
    "\n",
    "*   \n",
    "\n",
    "\n",
    "\n"
   ]
  },
  {
   "cell_type": "markdown",
   "metadata": {
    "id": "DKAQxmVQcT4f"
   },
   "source": [
    "## **Part II**\n",
    "\n",
    "Observe the following dataset: https://raw.githubusercontent.com/marwagaser/Quiz1-CSEN1095/main/CSVs/salesMinimized%20-%20salesMinimized.csv?token=AGGO3KVVFYGJFHNYW7N726S7WPBBY and use data tidying techniques to make the dataset tider.\n",
    "\n",
    "\n"
   ]
  },
  {
   "cell_type": "code",
   "execution_count": null,
   "metadata": {
    "id": "g7BkTPpZcyaw"
   },
   "outputs": [],
   "source": [
    "#Your answer here"
   ]
  },
  {
   "cell_type": "code",
   "execution_count": null,
   "metadata": {
    "id": "Ch0WRlJscvXl"
   },
   "outputs": [],
   "source": []
  }
 ],
 "metadata": {
  "colab": {
   "name": "CSEN1095_Quiz 1.ipynb",
   "provenance": []
  },
  "kernelspec": {
   "display_name": "Python 3",
   "language": "python",
   "name": "python3"
  },
  "language_info": {
   "codemirror_mode": {
    "name": "ipython",
    "version": 3
   },
   "file_extension": ".py",
   "mimetype": "text/x-python",
   "name": "python",
   "nbconvert_exporter": "python",
   "pygments_lexer": "ipython3",
   "version": "3.6.5"
  }
 },
 "nbformat": 4,
 "nbformat_minor": 1
}
